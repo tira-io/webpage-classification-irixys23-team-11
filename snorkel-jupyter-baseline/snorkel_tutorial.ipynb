{
  "cells": [
    {
      "cell_type": "markdown",
      "metadata": {
        "id": "NYByJ-703szv"
      },
      "source": [
        "The main aim of Snorkel is to allow to create more training data, because labelling large amounts of data manually is very hard and requires a lot of effort. Snorkel is using labelling functions to classify the data in different categories. Those labelling functions represent noisy, programmatic rules and heuristics that assign labels to unlabeled training data."
      ]
    },
    {
      "cell_type": "code",
      "execution_count": 1,
      "metadata": {
        "id": "uCN6oPLs-gBC"
      },
      "outputs": [
        {
          "name": "stdout",
          "output_type": "stream",
          "text": [
            "/workspaces/webpage-classification-irixys23-team-11/snorkel-jupyter-baseline/hosts_data/\n"
          ]
        }
      ],
      "source": [
        "#importing all the necessary packages\n",
        "from utils import extract_plain_text, load_data, ABSTAIN, BENIGN, MALICIOUS, ADULT, url_tokenizetion\n",
        "from url_labeling_functions import lf_educational_content, lf_sexual_innuendos,lf_malicious_keywords, \\\n",
        "    lf_adult_keywords, lf_malicious_keywords, lf_common_benign_domains, lf_explicit_usernames, lf_adult_product_references, \\\n",
        "    lf_common_adult_content_keywords, lf_euphemisms_for_adult, lf_adult_url_structure, lf_adult_industry_domains, lf_age_restriction, \\\n",
        "    lf_explicit_adult_keywords   \n",
        "from plain_text_labeling_functions import lf_plain_text_adult_content\n",
        "from load_hosts import lf_outgoing_host_is_malicious, lf_host_is_malicious, lf_outgoing_host_is_adult, lf_host_is_adult\n",
        "\n",
        "from keyword_labeling_functions import lf_main_content_has_adult_content, lf_plain_text_has_adult_content, lf_html_has_adult_content, lf_url_has_adult_content, lf_url_param_has_adult_content, lf_url_fragment_has_adult_content, lf_image_text_has_adult_content, lf_video_text_has_adult_content\n",
        "\n",
        "from sklearn_utils import SkLearnClassifier\n",
        "\n",
        "import snorkel\n",
        "import json\n",
        "import pandas as pd\n",
        "import numpy as np\n",
        "\n"
      ]
    },
    {
      "cell_type": "markdown",
      "metadata": {
        "id": "PXqrDaPO1o0T"
      },
      "source": [
        "As an example, we load train and validation data for spam detection here"
      ]
    },
    {
      "cell_type": "code",
      "execution_count": 2,
      "metadata": {
        "id": "PDAl6OOqBnoh"
      },
      "outputs": [
        {
          "name": "stderr",
          "output_type": "stream",
          "text": [
            "19783it [00:55, 355.91it/s]\n",
            "19783it [00:00, 214978.55it/s]\n"
          ]
        }
      ],
      "source": [
        "fields = ['url_tokenized', 'url_params', 'url_fragment', 'outgoing_links', 'plain_text']\n",
        "\n",
        "df_train = load_data('../data/Hackathon_data/train/D1_train.jsonl', fields)\n",
        "df_train_truth = load_data('../data/Hackathon_data/train/D1_train-truth.jsonl', fields)\n"
      ]
    },
    {
      "cell_type": "code",
      "execution_count": 4,
      "metadata": {},
      "outputs": [
        {
          "data": {
            "text/plain": [
              "uid                            28597064-476d-4988-a701-00d279db856a\n",
              "url                                  http://pornsites.cc/ru/fetish/\n",
              "html              <!DOCTYPE html>\\r\\n<html lang=\"ru\"><head><meta...\n",
              "url_tokenized                                pornsites cc ru fetish\n",
              "url_params                                                         \n",
              "url_fragment                                                       \n",
              "outgoing_links    [/?query=porn+cachita, /c/?g=rN2bj1yZpJWP5J3bn...\n",
              "Name: 0, dtype: object"
            ]
          },
          "execution_count": 4,
          "metadata": {},
          "output_type": "execute_result"
        }
      ],
      "source": [
        "df_train.iloc[0]"
      ]
    },
    {
      "cell_type": "code",
      "execution_count": 5,
      "metadata": {},
      "outputs": [
        {
          "data": {
            "text/plain": [
              "[\"SitePorn\\nru\\n  • English\\n  • Deutschland\\n  • España\\n  • العراق\\n  • Française\\n  • भारत\\n  • Italian\\n  • Polska\\n  • Русский\\n  • 中華人民共和國\\nСортировка видео\\n  • Самое популярное видео\\n  • Длинное Видео\\n  • Новое Видео\\nКатегории\\n  • 3D1450\\n  • 692030\\n  • Любительское2000\\n  • Анал2000\\n  • Арабки2000\\n  • Азиатки2000\\n  • Попки2000\\n  • Красотки2000\\n  • Няни2013\\n  • В Ванной2015\\n  • Толстушки2000\\n  • БДСМ2000\\n  • Пляж2015\\n  • Большие Члены2000\\n  • Большие Сиськи2000\\n  • Бикини3645\\n  • Бисексуалы2000\\n  • Блондинки2014\\n  • Минет2014\\n  • Брюнетки2030\\n  • Буккаке2143\\n  • Верблюжья Лапка1430\\n  • В Машине2028\\n  • Мультики1532\\n  • Кастинг2015\\n  • Кавказки1152\\n  • Знаменитости2000\\n  • Одетые Девушки Голые Парни2030\\n  • Полненькие2030\\n  • Крупным Планом2030\\n  • Студентки2030\\n  • Сборник2030\\n  • Пара2024\\n  • Кончил Внутрь2028\\n  • Переодевание1598\\n  • Рогоносцы2000\\n  • Обмениваются Спермой394\\n  • Кончил2029\\n  • Глубокий Минет2029\\n  • Двойное Проникновение2000\\n  • Негритянки2000\\n  • Эмо3651\\n  • Эротика2014\\n  • Европейки2000\\n  • Бывшие2015\\n  • Экстрим2017\\n  • На Лицо3729\\n  • Женское Доминирование2014\\n  • Фетиш2030\\n  • Палцем3645\\n  • В Первый Раз2014\\n  • Фистинг2029\\n  • Эксбицианизм2015\\n  • Гибкие3247\\n  • Ножки2161\\n  • Смешное2109\\n  • Групповуха2022\\n  • Дырка3184\\n  • Гей Медведи1425\\n  • Гей Твинки1886\\n  • Гламурное1602\\n  • В Очках3514\\n  • Дыра Славы3366\\n  • Готки2131\\n  • Бабушки2000\\n  • Группа2060\\n  • Волосатые2002\\n  • Дрочит2023\\n  • Хардкор2000\\n  • Скрытая Камера2000\\n  • Высокие Каблуки2199\\n  • Домашнее2013\\n  • Индианки2000\\n  • Проникновение2837\\n  • Межрассовое2015\\n  • Поцелуи2586\\n  • Латекс2099\\n  • Латинки2030\\n  • Лесбиянки2000\\n  • Лижут2025\\n  • Нижнее Белье2030\\n  • Секс Машина3614\\n  • Горничные2166\\n  • Массаж2000\\n  • Мастурбация2017\\n  • Зрелые2000\\n  • Медицина2041\\n  • Карлики1944\\n  • МИЛФ2000\\n  • Соски2029\\n  • Медсестры2141\\n  • Нейлон2030\\n  • В Офисе2074\\n  • Старые С Молодыми2015\\n  • Оргии3274\\n  • На Природе2027\\n  • Трусики2023\\n  • Колготы2081\\n  • Вечеринки2573\\n  • Пирсинг3603\\n  • Писающие2030\\n  • Бассейн3665\\n  • Порнозвезды2177\\n  • От Первого Лица3950\\n  • Беременные2015\\n  • На Публике2030\\n  • Киски2030\\n  • Реалити2030\\n  • Рыжие3853\\n  • Римминг3581\\n  • Романтика2000\\n  • Русские2000\\n  • В Школьной Форме2000\\n  • Секретарши2074\\n  • Бритые3471\\n  • Трансвеститы2000\\n  • Худые1388\\n  • Маленькие Сиськи933\\n  • Курящие3691\\n  • Легкое Порно3585\\n  • Соло2059\\n  • Шлепают2014\\n  • В Спортзале2092\\n  • Женский оргазм2060\\n  • Чулки2030\\n  • Страпон2051\\n  • Стриптиз3380\\n  • Глотают Сперму3472\\n  • Свингеры2030\\n  • Татуировки3515\\n  • Учительницы2030\\n  • Тинейджеры1872\\n  • Втроем2030\\n  • Между Сисек1974\\n  • Сиськи2029\\n  • В Туалете2000\\n  • Игрушки2147\\n  • Некрасивые1489\\n  • Униформа2139\\n  • Под Юбкой2029\\n  • Рэтро2000\\n  • Подглядывание2015\\n  • Веб Камера2000\\n  • Жена2000\\n  • Рестлинг1963\\nБольшие Члены Видео\\n38:30алекс харпер готов к интенсивному межрасовому анальному сексу\\n11:19огромный черный член заставляет серу райдер кончать раз за разом\\n05:54сексуальный эксперимент плотский инстинкт встретил пушистого кентавра и огромную сперму в жопе\\n57:38николь лав в потрясающем клипе для взрослых сперма в жопе самая горячая, как в твоих фантазиях\\n04:33грудастая латиноамериканка сосет большой член и скачет верхом на нем\\n56:24коко лавкок - потрясающая взрослая светловолосая величайшая демонстрация\\n06:50пухлый бразильский потаскушка boinks ее бездонные cootchie с массивными ебля\\n03:43мой 9-дюймовый кошмар\\n18:11мистер натц и лейлани лей - догоняем законную минуту\\n08:00пышногрудая брюнетка пайра ли наслаждается чудовищным мясным шестом\\n14:43Грубый межрасовый трах\\n18:50Ангел и 14-дюймовый животных\\n02:12большой черный член #два\\n20:5118летняя черноволосая крошка с невероятно милым задом и крошечными бамперами обожает большой черный член\\n05:46schlammschieben mit stiefdaddy..das fremdsperma war noch warm lol немецкое подросток\\n24:53сумасшедший китайское девица meisa ханай в дикий здоровенный stiffy, поддельные пенисы / игрушки яв пинч\\n02:11белую девушку затемняют на пляже 2 bbc\\n08:00самая большая проблема молли литтл'_s! смотрите, как что-то черное и очень большое входит в рот молли литтл, а затем в ее насквозь мокрое влагалище!\\n06:45камсода - подросток едва может вместить большой черный член в крошечный ротик и киску\\n04:32camsoda грудастая латиноамериканка сосет молоденькую\\n38:33большой черный член и дредд\\n33:07серия, посвященная всем любителям анального секса с ректальным вторжением\\n05:01могу ли я засунуть чудовищный член моего отчима в свою киску или он слишком большой? - подростковое порно\\n09:29супер милая девушка на день святого валентина\\n03:3818-летняя девушка крупным планом бреет киску и трахается с большим членом\\n15:52бледная подростковая мега-сучка не может отказать большой черный член в супер-горячем трахе\\n13:08приводя в порядок свои крошечные внутренности\\n04:32большой черный член желание\\n39:40молодой миниатюрный долбоеб стучал\\n02:22есть этот грубый мама sexymilfdate.net\\n04:25фея позволяет кемперу трахать ее на открытом воздухе во время шторма ветра\\n29:00любопытная пинэ пробует свой первый большой черный член\\n41:13экзотическая горбатая булавка милф любительская попытка увидеть полную версию\\n24:47л1ла л0вали чаат да й\\n09:34поклонение член сисси гипно-тимдил\\n11:47bbcpie многочисленные большой черный член трахают киски нескольких белых девушек сборник\\n96:17шоколадные пирожные\\n12:00не понимаю, как такой большой черный член помещается в ее рот и жопу\\n03:32щелевая сперма в жопе - xxl man meat большой черный член возится с кутером девушки и заставляет его лопаться\\n30:39потрясающий японское подружка harusaki азуми в лучших threeways, онанизм яв хомут\\n12:05blackedraw гф ногти самый большой черный член в мире\\n01:48humungous монстр meatpipe перерыв девица задницу-ебать расщелина\\n12:00миниатюрная цыпочка была шокирована огромным членом &mdash breakingteens\\n05:11Хентай грудастая очаровашка хуй\\n26:18янтарь получает еще один большой черный член\\n04:47массивный белый член\\n16:53азиатская зрелая тиа молода и робка и тычет в темнокожего жеребца\\n13:26Ваш член-это ооочень большой\\n03:36аксен хардкор интенсивная горячая идеальная киска зияющая капающая спермой скачет верхом на большом черном члене хардкор\\n05:14эй, наблюдайте порнографию вместе, не будьте такими застенчивыми!\\n60:33есине юрия в вааа-135 огромная грудь жены часть 1\\n07:00трахающиеся бризи, получающие трубки от стриптизерш\\n06:17icedev вкусная горячая большая попа, жаждущая большого члена, сладкий интенсивный минет, тугая зияющая киска, разбитая огромным чудовищным членом, забрызганная брызгами\\n10:07tiny4k обдавая сырым брачный относиться с капающей внутренние семяизвержения\\n12:54camsoda-крошечный подросток сперма в жопе раздавил большой черный член большой черный член\\n02:30аксен восхитительный секс горячая идеальная киска глотает большой черный член зияющая киска хардкор интенсивный\\n00:27Ездить Мне\\n11:03затемненными подросток алексис родригес с совершенной задницей любит большой черный член\\n10:14мы застали нашу мачеху кричащей, пока ее бывший парень трахал ее на кирпичах в недостроенном здании в недостроенном здании\\n03:25пожертвование мужского сока\\n00:45хардкор\\n50:49грудастая рыжая лапочка жестко кончает на большой член\\n10:26самая большая подборка сквиртинга!!! самые дикие оргазмы - mrpussylicking\\n46:19спб китайское многорасовый 46 18\\n07:27негабаритные черные розовые сигары сверла безвредный кот ген падуя в немилосердно\\n04:14огромная большой черный член! большой черный член мелькает на остановке общественного автобуса\\n11:09симпатичный подросток кончает без остановки и получает сперму в рот\\n08:00суперсексуальная ава выигрывает в лотерею и получает в награду огромный член\\n07:10подборка сумасшедшей шлюшки, открывающей свою киску на чудовищных мясорубках\\n01:24сырой анал\\n05:07большой член, огромный член, идеальная собачка с моей сексилиной\\n63:11dasd-972 секс с преподавателем из черного дерева часть 1 с химесаки ханой\\n12:00бангброс - пайпер перри, набитая большим членом на чудовищах петуха!\\n08:00пума жестко трахается в анал с большим членом в межрасовом порно\\n06:16унижение большого члена моей подругой лесбиянкой\\n02:02большой черный член стукачество\\n22:51симпатичная сбежавшая би-атч с безволосой киской трахается с толстым членом сзади\\n41:50горячая японская брюнетка с большой жопой милфа юми получает натуральную сперму в свою тугую мокрую волосатую киску\\n138:03девушка сошла с ума\\n28:30киви линг - стучит в межрасовом перепихоне большой эбонитовой костью\\n06:20сводная сестра не смогла удержаться, чтобы не трахнуть 12-дюймового большого члена на новый год 7 мин\\n125:32развратный фильм для взрослых гигантские сиськи невероятные поработят ваш разум\\n12:30blackedraw две партии девушки обманывают с системой управления bbcs после клуба\\n00:24большой монстр лошадь дик 2\\n05:00rharri round & jonathan jordan в приложении el negro de w * * * * - monstersofcock\\n02:29Черные мужчины любят белых женщин\\n12:30самый большой пенис! один сюрприз за другим\\n12:00Симпатичные Азиатская девушка с шикарной попке развлекается с двумя черными\\n03:01Мы просто любим красивые беленькие подростки. Особенно когда\\n15:17чудовищный насос спермы\\n01:04монстр кости делает мясистый шар транс сперма\\n12:07я трогаю муфту своей жены своим мужским мясом, пока не кончаю. она очень взволнована\\n05:00pressure & candy white in candy принимает на себя чудовищный укол-monstersofcock\\n09:30рогоносец жрет сперму\\n01:07большой член чмокает писю\\n07:01огромный tittied блудница софия леоне дает сиськи ебля и получает ее влагалище фаршированные\\n26:43учебное пособие по сквиртингу!!! как заставить девушку брызгать?! mrpussylicking\\n02:27amazonium вкусный анальный секс интенсивная горячая сперма в жопе внутри зияющей задницы хардкор от amazonium\\n07:56темноволосая мотыга миа валентина распыляется xxl черный стояк\\n16:30молодая анальная шлюшка делает глубокий минет, как чемпионка, терпит грубую боль и брызгает фонтаном - в ролях: фрейя ди\\n00:19отважная девушка\\n09:49я culo-возиться с возлюбленной в дилетант порно пов пин вид сцены\\n07:50femme montre son вагина расширяется по сравнению с обычным годом\\n99:06б. б. д. м. у. ф. з. 3\\n00:15extreem лэнг люлька\\n05:55блондинка с большими сиськами трахается с большой черный член\\n\\nПохожие запросы\\n\\nmsbeautifulfeet worldguy masturbating ranchysunnu leone sex video downloadmake that ass jumpvideo porno homofrodit8youthful old sexshuge boobs pivolivia austin in porndaina deliverbig girl on girlbiye new night sexdifficult situationsok blowjobspain xxx sex tubealexa lesbianadriana novahijab doggy di kebunnew sex santika sextiny 61baby sex mmmf1porn cachitamom and my son helpwife share faredblack thong for\\n\\xa0 \\xa0 \\xa0\\n\\n© 2019-2023\\xa0Поддержка и жалобы\\n\\n×\"]"
            ]
          },
          "execution_count": 5,
          "metadata": {},
          "output_type": "execute_result"
        }
      ],
      "source": [
        "SkLearnClassifier('plain_text').process(pd.DataFrame([df_train.iloc[0]]))"
      ]
    },
    {
      "cell_type": "code",
      "execution_count": 7,
      "metadata": {},
      "outputs": [],
      "source": [
        "SkLearnClassifier('url_tokenized').train(df_train, df_train_truth)"
      ]
    },
    {
      "cell_type": "code",
      "execution_count": 3,
      "metadata": {},
      "outputs": [],
      "source": [
        "SkLearnClassifier('plain_text').train(df_train, df_train_truth)"
      ]
    },
    {
      "cell_type": "code",
      "execution_count": 6,
      "metadata": {
        "id": "Dr5YoMxPJT1L"
      },
      "outputs": [
        {
          "name": "stderr",
          "output_type": "stream",
          "text": [
            "6757it [00:09, 711.77it/s]"
          ]
        },
        {
          "ename": "",
          "evalue": "",
          "output_type": "error",
          "traceback": [
            "\u001b[1;31mThe Kernel crashed while executing code in the the current cell or a previous cell. Please review the code in the cell(s) to identify a possible cause of the failure. Click <a href='https://aka.ms/vscodeJupyterKernelCrash'>here</a> for more info. View Jupyter <a href='command:jupyter.viewOutput'>log</a> for further details."
          ]
        }
      ],
      "source": [
        "#loading train and validation data\n",
        "fields = ['url_tokenized', 'url_params', 'url_fragment', 'outgoing_links']\n",
        "df_train = load_data(file_train, fields)\n",
        "df_train_truth = load_data(file_train_truth, fields)\n",
        "df_val = load_data(file_val, fields)\n"
      ]
    },
    {
      "cell_type": "markdown",
      "metadata": {
        "id": "ahpPPs06EiYu"
      },
      "source": [
        "Usually, Snorkel returns -1 value for ABSTAIN category and 0 or 1 for labels, but, as we have 3 labels, we use 0, 1 and 2."
      ]
    },
    {
      "cell_type": "markdown",
      "metadata": {
        "id": "dPf7je9R10ca"
      },
      "source": [
        "We replace the labels by numerical values"
      ]
    },
    {
      "cell_type": "code",
      "execution_count": 5,
      "metadata": {
        "id": "tdL9cmm2B3Lx"
      },
      "outputs": [
        {
          "name": "stderr",
          "output_type": "stream",
          "text": [
            "2937it [00:00, 283997.39it/s]\n"
          ]
        }
      ],
      "source": [
        "df_val_t = load_data(val_truth, [])\n",
        "df_val_t = df_val_t.replace({'Benign': 0, 'Malicious': 1, 'Adult': 2})\n",
        "\n",
        "# we check if all the labeled items are in data\n",
        "list_of_values = df_val['uid'].to_list()\n",
        "df_val_t = df_val_t[df_val_t['uid'].isin(list_of_values)]\n",
        "df_val_t\n",
        "val_true = np.array(df_val_t['label'])"
      ]
    },
    {
      "cell_type": "markdown",
      "metadata": {
        "id": "FXTFmOF_6SQh"
      },
      "source": [
        "Labeling functions in Snorkel are created with the @labeling_function decorator. In this case, the labelling function uses the keywords that are present in the urls and indicate that the content is adult, malicious or benign. The functions can search in different parts of the data (such as URL and html content)."
      ]
    },
    {
      "cell_type": "markdown",
      "metadata": {
        "id": "dD_3XC5zPdFN"
      },
      "source": [
        "This function searches in html content instead of URL"
      ]
    },
    {
      "cell_type": "markdown",
      "metadata": {
        "id": "Uw0Dcf9LFmjE"
      },
      "source": [
        "To apply one or more labelling functions that we’ve written to a collection of data points, we use an LFApplier. Because our data points are represented with a Pandas DataFrame, we use the PandasLFApplier. Correspondingly, a single data point x that’s passed into our LFs will be a Pandas Series object."
      ]
    },
    {
      "cell_type": "code",
      "execution_count": 6,
      "metadata": {
        "colab": {
          "base_uri": "https://localhost:8080/"
        },
        "id": "R0DSfvhvdCnz",
        "outputId": "18e4c6fd-8dce-4adb-8f0d-1944b4c41d3b"
      },
      "outputs": [
        {
          "name": "stderr",
          "output_type": "stream",
          "text": [
            "100%|██████████| 19783/19783 [00:35<00:00, 551.53it/s]\n",
            "100%|██████████| 2937/2937 [00:03<00:00, 776.67it/s]\n"
          ]
        }
      ],
      "source": [
        "from snorkel.labeling import PandasLFApplier\n",
        "\n",
        "lfs = [lf_educational_content, lf_sexual_innuendos, lf_malicious_keywords, lf_url_has_adult_content,\n",
        "\n",
        " lf_adult_keywords,  lf_common_benign_domains, lf_explicit_usernames,\n",
        "lf_adult_product_references, lf_common_adult_content_keywords, lf_euphemisms_for_adult, lf_adult_url_structure,\n",
        "lf_adult_industry_domains, lf_age_restriction, lf_explicit_adult_keywords,\n",
        " \n",
        "\n",
        "lf_outgoing_host_is_malicious, lf_host_is_malicious, lf_outgoing_host_is_adult, lf_host_is_adult,\n",
        "#, lf_plain_text_adult_content, lf_main_content_has_adult_content, lf_plain_text_has_adult_content,\n",
        "  #     lf_html_has_adult_content, , lf_url_param_has_adult_content, lf_url_fragment_has_adult_content, lf_image_text_has_adult_content, \n",
        "    #   lf_video_text_has_adult_content]\n",
        "]\n",
        "applier = PandasLFApplier(lfs=lfs)\n",
        "L_train = applier.apply(df=df_train)\n",
        "L_val = applier.apply(df=df_val)\n"
      ]
    },
    {
      "cell_type": "markdown",
      "metadata": {
        "id": "SEk_fc3CGmzI"
      },
      "source": [
        "Here we have statistics about the labelling of our labelling functions. Polarity means what labels and how many labels does a function return (for example, Malicious and Abstain). Coverage indicates how much dataset is labeled by this function. Overlaps is when several functions give the same label to the data. Conflicts is when different functions labeled the same data differently."
      ]
    },
    {
      "cell_type": "code",
      "execution_count": 7,
      "metadata": {
        "colab": {
          "base_uri": "https://localhost:8080/",
          "height": 175
        },
        "id": "1lwv7uEEe4Xs",
        "outputId": "724c8b18-b54d-4314-e977-790dbd591d13"
      },
      "outputs": [
        {
          "data": {
            "text/html": [
              "<div>\n",
              "<style scoped>\n",
              "    .dataframe tbody tr th:only-of-type {\n",
              "        vertical-align: middle;\n",
              "    }\n",
              "\n",
              "    .dataframe tbody tr th {\n",
              "        vertical-align: top;\n",
              "    }\n",
              "\n",
              "    .dataframe thead th {\n",
              "        text-align: right;\n",
              "    }\n",
              "</style>\n",
              "<table border=\"1\" class=\"dataframe\">\n",
              "  <thead>\n",
              "    <tr style=\"text-align: right;\">\n",
              "      <th></th>\n",
              "      <th>j</th>\n",
              "      <th>Polarity</th>\n",
              "      <th>Coverage</th>\n",
              "      <th>Overlaps</th>\n",
              "      <th>Conflicts</th>\n",
              "    </tr>\n",
              "  </thead>\n",
              "  <tbody>\n",
              "    <tr>\n",
              "      <th>lf_educational_content</th>\n",
              "      <td>0</td>\n",
              "      <td>[0]</td>\n",
              "      <td>0.009874</td>\n",
              "      <td>0.000681</td>\n",
              "      <td>0.000681</td>\n",
              "    </tr>\n",
              "    <tr>\n",
              "      <th>lf_sexual_innuendos</th>\n",
              "      <td>1</td>\n",
              "      <td>[2]</td>\n",
              "      <td>0.002383</td>\n",
              "      <td>0.001362</td>\n",
              "      <td>0.000000</td>\n",
              "    </tr>\n",
              "    <tr>\n",
              "      <th>lf_malicious_keywords</th>\n",
              "      <td>2</td>\n",
              "      <td>[1]</td>\n",
              "      <td>0.001702</td>\n",
              "      <td>0.000000</td>\n",
              "      <td>0.000000</td>\n",
              "    </tr>\n",
              "    <tr>\n",
              "      <th>lf_url_has_adult_content</th>\n",
              "      <td>3</td>\n",
              "      <td>[2]</td>\n",
              "      <td>0.034729</td>\n",
              "      <td>0.013960</td>\n",
              "      <td>0.002724</td>\n",
              "    </tr>\n",
              "    <tr>\n",
              "      <th>lf_adult_keywords</th>\n",
              "      <td>4</td>\n",
              "      <td>[2]</td>\n",
              "      <td>0.010895</td>\n",
              "      <td>0.010555</td>\n",
              "      <td>0.001021</td>\n",
              "    </tr>\n",
              "    <tr>\n",
              "      <th>lf_common_benign_domains</th>\n",
              "      <td>5</td>\n",
              "      <td>[]</td>\n",
              "      <td>0.000000</td>\n",
              "      <td>0.000000</td>\n",
              "      <td>0.000000</td>\n",
              "    </tr>\n",
              "    <tr>\n",
              "      <th>lf_explicit_usernames</th>\n",
              "      <td>6</td>\n",
              "      <td>[2]</td>\n",
              "      <td>0.000681</td>\n",
              "      <td>0.000681</td>\n",
              "      <td>0.000000</td>\n",
              "    </tr>\n",
              "    <tr>\n",
              "      <th>lf_adult_product_references</th>\n",
              "      <td>7</td>\n",
              "      <td>[]</td>\n",
              "      <td>0.000000</td>\n",
              "      <td>0.000000</td>\n",
              "      <td>0.000000</td>\n",
              "    </tr>\n",
              "    <tr>\n",
              "      <th>lf_common_adult_content_keywords</th>\n",
              "      <td>8</td>\n",
              "      <td>[2]</td>\n",
              "      <td>0.006129</td>\n",
              "      <td>0.006129</td>\n",
              "      <td>0.000340</td>\n",
              "    </tr>\n",
              "    <tr>\n",
              "      <th>lf_euphemisms_for_adult</th>\n",
              "      <td>9</td>\n",
              "      <td>[2]</td>\n",
              "      <td>0.000340</td>\n",
              "      <td>0.000000</td>\n",
              "      <td>0.000000</td>\n",
              "    </tr>\n",
              "    <tr>\n",
              "      <th>lf_adult_url_structure</th>\n",
              "      <td>10</td>\n",
              "      <td>[2]</td>\n",
              "      <td>0.000340</td>\n",
              "      <td>0.000340</td>\n",
              "      <td>0.000000</td>\n",
              "    </tr>\n",
              "    <tr>\n",
              "      <th>lf_adult_industry_domains</th>\n",
              "      <td>11</td>\n",
              "      <td>[]</td>\n",
              "      <td>0.000000</td>\n",
              "      <td>0.000000</td>\n",
              "      <td>0.000000</td>\n",
              "    </tr>\n",
              "    <tr>\n",
              "      <th>lf_age_restriction</th>\n",
              "      <td>12</td>\n",
              "      <td>[2]</td>\n",
              "      <td>0.000681</td>\n",
              "      <td>0.000340</td>\n",
              "      <td>0.000340</td>\n",
              "    </tr>\n",
              "    <tr>\n",
              "      <th>lf_explicit_adult_keywords</th>\n",
              "      <td>13</td>\n",
              "      <td>[2]</td>\n",
              "      <td>0.014641</td>\n",
              "      <td>0.003064</td>\n",
              "      <td>0.001362</td>\n",
              "    </tr>\n",
              "    <tr>\n",
              "      <th>lf_outgoing_host_is_malicious</th>\n",
              "      <td>14</td>\n",
              "      <td>[1]</td>\n",
              "      <td>0.022131</td>\n",
              "      <td>0.019408</td>\n",
              "      <td>0.013279</td>\n",
              "    </tr>\n",
              "    <tr>\n",
              "      <th>lf_host_is_malicious</th>\n",
              "      <td>15</td>\n",
              "      <td>[1]</td>\n",
              "      <td>0.049030</td>\n",
              "      <td>0.009534</td>\n",
              "      <td>0.003405</td>\n",
              "    </tr>\n",
              "    <tr>\n",
              "      <th>lf_outgoing_host_is_adult</th>\n",
              "      <td>16</td>\n",
              "      <td>[2]</td>\n",
              "      <td>0.010895</td>\n",
              "      <td>0.010895</td>\n",
              "      <td>0.010895</td>\n",
              "    </tr>\n",
              "    <tr>\n",
              "      <th>lf_host_is_adult</th>\n",
              "      <td>17</td>\n",
              "      <td>[2]</td>\n",
              "      <td>0.002383</td>\n",
              "      <td>0.002383</td>\n",
              "      <td>0.002383</td>\n",
              "    </tr>\n",
              "  </tbody>\n",
              "</table>\n",
              "</div>"
            ],
            "text/plain": [
              "                                   j Polarity  Coverage  Overlaps  Conflicts\n",
              "lf_educational_content             0      [0]  0.009874  0.000681   0.000681\n",
              "lf_sexual_innuendos                1      [2]  0.002383  0.001362   0.000000\n",
              "lf_malicious_keywords              2      [1]  0.001702  0.000000   0.000000\n",
              "lf_url_has_adult_content           3      [2]  0.034729  0.013960   0.002724\n",
              "lf_adult_keywords                  4      [2]  0.010895  0.010555   0.001021\n",
              "lf_common_benign_domains           5       []  0.000000  0.000000   0.000000\n",
              "lf_explicit_usernames              6      [2]  0.000681  0.000681   0.000000\n",
              "lf_adult_product_references        7       []  0.000000  0.000000   0.000000\n",
              "lf_common_adult_content_keywords   8      [2]  0.006129  0.006129   0.000340\n",
              "lf_euphemisms_for_adult            9      [2]  0.000340  0.000000   0.000000\n",
              "lf_adult_url_structure            10      [2]  0.000340  0.000340   0.000000\n",
              "lf_adult_industry_domains         11       []  0.000000  0.000000   0.000000\n",
              "lf_age_restriction                12      [2]  0.000681  0.000340   0.000340\n",
              "lf_explicit_adult_keywords        13      [2]  0.014641  0.003064   0.001362\n",
              "lf_outgoing_host_is_malicious     14      [1]  0.022131  0.019408   0.013279\n",
              "lf_host_is_malicious              15      [1]  0.049030  0.009534   0.003405\n",
              "lf_outgoing_host_is_adult         16      [2]  0.010895  0.010895   0.010895\n",
              "lf_host_is_adult                  17      [2]  0.002383  0.002383   0.002383"
            ]
          },
          "execution_count": 7,
          "metadata": {},
          "output_type": "execute_result"
        }
      ],
      "source": [
        "from snorkel.labeling import LFAnalysis\n",
        "\n",
        "LFAnalysis(L=L_val, lfs=lfs).lf_summary()\n"
      ]
    },
    {
      "cell_type": "markdown",
      "metadata": {
        "id": "FdCNis5qK8f3"
      },
      "source": [
        "The LabelModel is able to learn weights for the labeling functions using only the label matrix as input. We also specify the cardinality, or number of classes."
      ]
    },
    {
      "cell_type": "code",
      "execution_count": 8,
      "metadata": {
        "colab": {
          "base_uri": "https://localhost:8080/"
        },
        "id": "T8d3f67PhvbZ",
        "outputId": "ddf8d137-461d-414a-cfd3-25c9c1a15e65"
      },
      "outputs": [
        {
          "name": "stderr",
          "output_type": "stream",
          "text": [
            "INFO:root:Computing O...\n",
            "INFO:root:Estimating \\mu...\n",
            "  0%|          | 0/500 [00:00<?, ?epoch/s]INFO:root:[0 epochs]: TRAIN:[loss=0.002]\n",
            "  0%|          | 1/500 [00:00<02:14,  3.71epoch/s]INFO:root:[100 epochs]: TRAIN:[loss=0.001]\n",
            " 25%|██▌       | 125/500 [00:00<00:00, 430.97epoch/s]INFO:root:[200 epochs]: TRAIN:[loss=0.001]\n",
            " 51%|█████     | 253/500 [00:00<00:00, 710.92epoch/s]INFO:root:[300 epochs]: TRAIN:[loss=0.001]\n",
            " 74%|███████▍  | 369/500 [00:00<00:00, 853.42epoch/s]INFO:root:[400 epochs]: TRAIN:[loss=0.001]\n",
            "100%|██████████| 500/500 [00:00<00:00, 703.27epoch/s]\n",
            "INFO:root:Finished Training\n"
          ]
        }
      ],
      "source": [
        "from snorkel.labeling.model import LabelModel\n",
        "\n",
        "label_model = LabelModel(cardinality=3, verbose=True)\n",
        "label_model.fit(L_train=L_val, n_epochs=500, log_freq=100, seed=123)\n"
      ]
    },
    {
      "cell_type": "markdown",
      "metadata": {
        "id": "HZ5IsZWJLWsq"
      },
      "source": [
        "The majority vote model uses the information about how many functions predict that this data will have this label and how many predict that this data will have a different label. The final label is determined by the majority: if 3 functions predict that it will be a label 'a' and 2 that if will be a label 'b', the final label will be 'a'"
      ]
    },
    {
      "cell_type": "code",
      "execution_count": 9,
      "metadata": {
        "id": "-8Tuv-a4L0Pd"
      },
      "outputs": [],
      "source": [
        "from snorkel.labeling.model import MajorityLabelVoter\n",
        "\n",
        "majority_model = MajorityLabelVoter(cardinality=3, verbose=True)\n",
        "preds_train = majority_model.predict(L=L_train)\n"
      ]
    },
    {
      "cell_type": "markdown",
      "metadata": {
        "id": "Jce7tCSeN9CE"
      },
      "source": [
        "Here we can see, what accuracy scores we get. For some tasks label model is better, for some majority label voter is better: for you to find it out."
      ]
    },
    {
      "cell_type": "code",
      "execution_count": 10,
      "metadata": {
        "colab": {
          "base_uri": "https://localhost:8080/"
        },
        "id": "G3LOuX1th_Kv",
        "outputId": "83ccf7e2-d78b-4e0e-d0b9-79c84be52eaa"
      },
      "outputs": [
        {
          "name": "stdout",
          "output_type": "stream",
          "text": [
            "Label Model Accuracy: 35.6%\n",
            "Majority Vote Accuracy: 35.2%\n"
          ]
        }
      ],
      "source": [
        "label_model_acc = label_model.score(L=L_val, Y=val_true, tie_break_policy=\"random\")[\n",
        "    \"accuracy\"\n",
        "]\n",
        "print(f\"{'Label Model Accuracy:'} {label_model_acc * 100:.1f}%\")\n",
        "\n",
        "majority_acc = majority_model.score(L=L_val, Y=val_true, tie_break_policy=\"random\")[\n",
        "    \"accuracy\"\n",
        "]\n",
        "print(f\"{'Majority Vote Accuracy:'} {majority_acc * 100:.1f}%\")"
      ]
    }
  ],
  "metadata": {
    "colab": {
      "provenance": []
    },
    "kernelspec": {
      "display_name": "Python 3",
      "name": "python3"
    },
    "language_info": {
      "codemirror_mode": {
        "name": "ipython",
        "version": 3
      },
      "file_extension": ".py",
      "mimetype": "text/x-python",
      "name": "python",
      "nbconvert_exporter": "python",
      "pygments_lexer": "ipython3",
      "version": "3.10.8"
    }
  },
  "nbformat": 4,
  "nbformat_minor": 0
}
