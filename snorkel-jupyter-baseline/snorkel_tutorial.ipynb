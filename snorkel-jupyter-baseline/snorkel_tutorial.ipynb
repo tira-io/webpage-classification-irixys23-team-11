{
  "cells": [
    {
      "cell_type": "markdown",
      "metadata": {
        "id": "NYByJ-703szv"
      },
      "source": [
        "The main aim of Snorkel is to allow to create more training data, because labelling large amounts of data manually is very hard and requires a lot of effort. Snorkel is using labelling functions to classify the data in different categories. Those labelling functions represent noisy, programmatic rules and heuristics that assign labels to unlabeled training data."
      ]
    },
    {
      "cell_type": "code",
      "execution_count": 2,
      "metadata": {
        "id": "uCN6oPLs-gBC"
      },
      "outputs": [],
      "source": [
        "#importing all the necessary packages\n",
        "from utils import extract_plain_text, load_data, ABSTAIN, BENIGN, MALICIOUS, ADULT, url_tokenizetion\n",
        "from url_labeling_functions import lf_educational_content, lf_sexual_innuendos,lf_malicious_keywords, \\\n",
        "    lf_adult_keywords, lf_malicious_keywords, lf_common_benign_domains, lf_explicit_usernames, lf_adult_product_references, \\\n",
        "    lf_common_adult_content_keywords, lf_euphemisms_for_adult, lf_adult_url_structure, lf_adult_industry_domains, lf_age_restriction, \\\n",
        "    lf_explicit_adult_keywords   \n",
        "from plain_text_labeling_functions import lf_plain_text_adult_content\n",
        "from load_hosts import lf_outgoing_host_is_malicious, lf_host_is_malicious, lf_outgoing_host_is_adult, lf_host_is_adult\n",
        "\n",
        "from keyword_labeling_functions import lf_main_content_has_adult_content, lf_plain_text_has_adult_content, lf_html_has_adult_content, lf_url_has_adult_content, lf_url_param_has_adult_content, lf_url_fragment_has_adult_content, lf_image_text_has_adult_content, lf_video_text_has_adult_content\n",
        "\n",
        "from sklearn_utils import SkLearnClassifier\n",
        "\n",
        "import snorkel\n",
        "import json\n",
        "import pandas as pd\n",
        "import numpy as np\n",
        "\n"
      ]
    },
    {
      "cell_type": "markdown",
      "metadata": {
        "id": "PXqrDaPO1o0T"
      },
      "source": [
        "As an example, we load train and validation data for spam detection here"
      ]
    },
    {
      "cell_type": "code",
      "execution_count": 3,
      "metadata": {
        "id": "PDAl6OOqBnoh"
      },
      "outputs": [
        {
          "name": "stderr",
          "output_type": "stream",
          "text": [
            "19783it [00:54, 362.63it/s]\n",
            "19783it [00:00, 241963.08it/s]\n"
          ]
        }
      ],
      "source": [
        "fields = ['url_tokenized', 'url_params', 'url_fragment', 'outgoing_links', 'plain_text']\n",
        "\n",
        "df_train = load_data('../data/Hackathon_data/train/D1_train.jsonl', fields)\n",
        "df_train_truth = load_data('../data/Hackathon_data/train/D1_train-truth.jsonl', fields)\n"
      ]
    },
    {
      "cell_type": "code",
      "execution_count": 4,
      "metadata": {},
      "outputs": [
        {
          "data": {
            "text/plain": [
              "uid                            28597064-476d-4988-a701-00d279db856a\n",
              "url                                  http://pornsites.cc/ru/fetish/\n",
              "html              <!DOCTYPE html>\\r\\n<html lang=\"ru\"><head><meta...\n",
              "plain_text        SitePorn\\nru\\n  • English\\n  • Deutschland\\n  ...\n",
              "url_tokenized                                pornsites cc ru fetish\n",
              "url_params                                                         \n",
              "url_fragment                                                       \n",
              "outgoing_links    [/ru/hidden-cam/, /ru/crossdresser/, /c/?g=rN2...\n",
              "Name: 0, dtype: object"
            ]
          },
          "execution_count": 4,
          "metadata": {},
          "output_type": "execute_result"
        }
      ],
      "source": [
        "df_train.iloc[0]"
      ]
    },
    {
      "cell_type": "code",
      "execution_count": 7,
      "metadata": {},
      "outputs": [
        {
          "ename": "NameError",
          "evalue": "name 'process' is not defined",
          "output_type": "error",
          "traceback": [
            "\u001b[0;31m---------------------------------------------------------------------------\u001b[0m",
            "\u001b[0;31mNameError\u001b[0m                                 Traceback (most recent call last)",
            "\u001b[1;32m/workspaces/webpage-classification-irixys23-team-11/snorkel-jupyter-baseline/snorkel_tutorial.ipynb Cell 6\u001b[0m line \u001b[0;36m1\n\u001b[0;32m----> <a href='vscode-notebook-cell://codespaces%2Bhumble-journey-5wxv4w5xxvfvp79/workspaces/webpage-classification-irixys23-team-11/snorkel-jupyter-baseline/snorkel_tutorial.ipynb#Y116sdnNjb2RlLXJlbW90ZQ%3D%3D?line=0'>1</a>\u001b[0m SkLearnClassifier(\u001b[39m'\u001b[39;49m\u001b[39mplain_text\u001b[39;49m\u001b[39m'\u001b[39;49m)\u001b[39m.\u001b[39;49mpredict(df_train\u001b[39m.\u001b[39;49miloc[\u001b[39m0\u001b[39;49m]\u001b[39m.\u001b[39;49mto_dict())\n",
            "File \u001b[0;32m/workspaces/webpage-classification-irixys23-team-11/snorkel-jupyter-baseline/sklearn_utils.py:18\u001b[0m, in \u001b[0;36mSkLearnClassifier.predict\u001b[0;34m(self, data_point)\u001b[0m\n\u001b[1;32m     17\u001b[0m \u001b[39mdef\u001b[39;00m \u001b[39mpredict\u001b[39m(\u001b[39mself\u001b[39m, data_point):\n\u001b[0;32m---> 18\u001b[0m     \u001b[39mreturn\u001b[39;00m \u001b[39mself\u001b[39m\u001b[39m.\u001b[39mpipeline\u001b[39m.\u001b[39mpredict(process(pd\u001b[39m.\u001b[39mDataFrame([data_point])))\n",
            "\u001b[0;31mNameError\u001b[0m: name 'process' is not defined"
          ]
        }
      ],
      "source": [
        "SkLearnClassifier('plain_text').predict(df_train.iloc[0].to_dict())"
      ]
    },
    {
      "cell_type": "code",
      "execution_count": 7,
      "metadata": {},
      "outputs": [],
      "source": [
        "SkLearnClassifier('url_tokenized').train(df_train, df_train_truth)"
      ]
    },
    {
      "cell_type": "code",
      "execution_count": 3,
      "metadata": {},
      "outputs": [],
      "source": [
        "SkLearnClassifier('plain_text').train(df_train, df_train_truth)"
      ]
    },
    {
      "cell_type": "code",
      "execution_count": 6,
      "metadata": {
        "id": "Dr5YoMxPJT1L"
      },
      "outputs": [
        {
          "name": "stderr",
          "output_type": "stream",
          "text": [
            "6757it [00:09, 711.77it/s]"
          ]
        },
        {
          "ename": "",
          "evalue": "",
          "output_type": "error",
          "traceback": [
            "\u001b[1;31mThe Kernel crashed while executing code in the the current cell or a previous cell. Please review the code in the cell(s) to identify a possible cause of the failure. Click <a href='https://aka.ms/vscodeJupyterKernelCrash'>here</a> for more info. View Jupyter <a href='command:jupyter.viewOutput'>log</a> for further details."
          ]
        }
      ],
      "source": [
        "#loading train and validation data\n",
        "fields = ['url_tokenized', 'url_params', 'url_fragment', 'outgoing_links']\n",
        "df_train = load_data(file_train, fields)\n",
        "df_train_truth = load_data(file_train_truth, fields)\n",
        "df_val = load_data(file_val, fields)\n"
      ]
    },
    {
      "cell_type": "markdown",
      "metadata": {
        "id": "ahpPPs06EiYu"
      },
      "source": [
        "Usually, Snorkel returns -1 value for ABSTAIN category and 0 or 1 for labels, but, as we have 3 labels, we use 0, 1 and 2."
      ]
    },
    {
      "cell_type": "markdown",
      "metadata": {
        "id": "dPf7je9R10ca"
      },
      "source": [
        "We replace the labels by numerical values"
      ]
    },
    {
      "cell_type": "code",
      "execution_count": 5,
      "metadata": {
        "id": "tdL9cmm2B3Lx"
      },
      "outputs": [
        {
          "name": "stderr",
          "output_type": "stream",
          "text": [
            "2937it [00:00, 283997.39it/s]\n"
          ]
        }
      ],
      "source": [
        "df_val_t = load_data(val_truth, [])\n",
        "df_val_t = df_val_t.replace({'Benign': 0, 'Malicious': 1, 'Adult': 2})\n",
        "\n",
        "# we check if all the labeled items are in data\n",
        "list_of_values = df_val['uid'].to_list()\n",
        "df_val_t = df_val_t[df_val_t['uid'].isin(list_of_values)]\n",
        "df_val_t\n",
        "val_true = np.array(df_val_t['label'])"
      ]
    },
    {
      "cell_type": "markdown",
      "metadata": {
        "id": "FXTFmOF_6SQh"
      },
      "source": [
        "Labeling functions in Snorkel are created with the @labeling_function decorator. In this case, the labelling function uses the keywords that are present in the urls and indicate that the content is adult, malicious or benign. The functions can search in different parts of the data (such as URL and html content)."
      ]
    },
    {
      "cell_type": "markdown",
      "metadata": {
        "id": "dD_3XC5zPdFN"
      },
      "source": [
        "This function searches in html content instead of URL"
      ]
    },
    {
      "cell_type": "markdown",
      "metadata": {
        "id": "Uw0Dcf9LFmjE"
      },
      "source": [
        "To apply one or more labelling functions that we’ve written to a collection of data points, we use an LFApplier. Because our data points are represented with a Pandas DataFrame, we use the PandasLFApplier. Correspondingly, a single data point x that’s passed into our LFs will be a Pandas Series object."
      ]
    },
    {
      "cell_type": "code",
      "execution_count": 6,
      "metadata": {
        "colab": {
          "base_uri": "https://localhost:8080/"
        },
        "id": "R0DSfvhvdCnz",
        "outputId": "18e4c6fd-8dce-4adb-8f0d-1944b4c41d3b"
      },
      "outputs": [
        {
          "name": "stderr",
          "output_type": "stream",
          "text": [
            "100%|██████████| 19783/19783 [00:35<00:00, 551.53it/s]\n",
            "100%|██████████| 2937/2937 [00:03<00:00, 776.67it/s]\n"
          ]
        }
      ],
      "source": [
        "from snorkel.labeling import PandasLFApplier\n",
        "\n",
        "lfs = [lf_educational_content, lf_sexual_innuendos, lf_malicious_keywords, lf_url_has_adult_content,\n",
        "\n",
        " lf_adult_keywords,  lf_common_benign_domains, lf_explicit_usernames,\n",
        "lf_adult_product_references, lf_common_adult_content_keywords, lf_euphemisms_for_adult, lf_adult_url_structure,\n",
        "lf_adult_industry_domains, lf_age_restriction, lf_explicit_adult_keywords,\n",
        " \n",
        "\n",
        "lf_outgoing_host_is_malicious, lf_host_is_malicious, lf_outgoing_host_is_adult, lf_host_is_adult,\n",
        "#, lf_plain_text_adult_content, lf_main_content_has_adult_content, lf_plain_text_has_adult_content,\n",
        "  #     lf_html_has_adult_content, , lf_url_param_has_adult_content, lf_url_fragment_has_adult_content, lf_image_text_has_adult_content, \n",
        "    #   lf_video_text_has_adult_content]\n",
        "]\n",
        "applier = PandasLFApplier(lfs=lfs)\n",
        "L_train = applier.apply(df=df_train)\n",
        "L_val = applier.apply(df=df_val)\n"
      ]
    },
    {
      "cell_type": "markdown",
      "metadata": {
        "id": "SEk_fc3CGmzI"
      },
      "source": [
        "Here we have statistics about the labelling of our labelling functions. Polarity means what labels and how many labels does a function return (for example, Malicious and Abstain). Coverage indicates how much dataset is labeled by this function. Overlaps is when several functions give the same label to the data. Conflicts is when different functions labeled the same data differently."
      ]
    },
    {
      "cell_type": "code",
      "execution_count": 7,
      "metadata": {
        "colab": {
          "base_uri": "https://localhost:8080/",
          "height": 175
        },
        "id": "1lwv7uEEe4Xs",
        "outputId": "724c8b18-b54d-4314-e977-790dbd591d13"
      },
      "outputs": [
        {
          "data": {
            "text/html": [
              "<div>\n",
              "<style scoped>\n",
              "    .dataframe tbody tr th:only-of-type {\n",
              "        vertical-align: middle;\n",
              "    }\n",
              "\n",
              "    .dataframe tbody tr th {\n",
              "        vertical-align: top;\n",
              "    }\n",
              "\n",
              "    .dataframe thead th {\n",
              "        text-align: right;\n",
              "    }\n",
              "</style>\n",
              "<table border=\"1\" class=\"dataframe\">\n",
              "  <thead>\n",
              "    <tr style=\"text-align: right;\">\n",
              "      <th></th>\n",
              "      <th>j</th>\n",
              "      <th>Polarity</th>\n",
              "      <th>Coverage</th>\n",
              "      <th>Overlaps</th>\n",
              "      <th>Conflicts</th>\n",
              "    </tr>\n",
              "  </thead>\n",
              "  <tbody>\n",
              "    <tr>\n",
              "      <th>lf_educational_content</th>\n",
              "      <td>0</td>\n",
              "      <td>[0]</td>\n",
              "      <td>0.009874</td>\n",
              "      <td>0.000681</td>\n",
              "      <td>0.000681</td>\n",
              "    </tr>\n",
              "    <tr>\n",
              "      <th>lf_sexual_innuendos</th>\n",
              "      <td>1</td>\n",
              "      <td>[2]</td>\n",
              "      <td>0.002383</td>\n",
              "      <td>0.001362</td>\n",
              "      <td>0.000000</td>\n",
              "    </tr>\n",
              "    <tr>\n",
              "      <th>lf_malicious_keywords</th>\n",
              "      <td>2</td>\n",
              "      <td>[1]</td>\n",
              "      <td>0.001702</td>\n",
              "      <td>0.000000</td>\n",
              "      <td>0.000000</td>\n",
              "    </tr>\n",
              "    <tr>\n",
              "      <th>lf_url_has_adult_content</th>\n",
              "      <td>3</td>\n",
              "      <td>[2]</td>\n",
              "      <td>0.034729</td>\n",
              "      <td>0.013960</td>\n",
              "      <td>0.002724</td>\n",
              "    </tr>\n",
              "    <tr>\n",
              "      <th>lf_adult_keywords</th>\n",
              "      <td>4</td>\n",
              "      <td>[2]</td>\n",
              "      <td>0.010895</td>\n",
              "      <td>0.010555</td>\n",
              "      <td>0.001021</td>\n",
              "    </tr>\n",
              "    <tr>\n",
              "      <th>lf_common_benign_domains</th>\n",
              "      <td>5</td>\n",
              "      <td>[]</td>\n",
              "      <td>0.000000</td>\n",
              "      <td>0.000000</td>\n",
              "      <td>0.000000</td>\n",
              "    </tr>\n",
              "    <tr>\n",
              "      <th>lf_explicit_usernames</th>\n",
              "      <td>6</td>\n",
              "      <td>[2]</td>\n",
              "      <td>0.000681</td>\n",
              "      <td>0.000681</td>\n",
              "      <td>0.000000</td>\n",
              "    </tr>\n",
              "    <tr>\n",
              "      <th>lf_adult_product_references</th>\n",
              "      <td>7</td>\n",
              "      <td>[]</td>\n",
              "      <td>0.000000</td>\n",
              "      <td>0.000000</td>\n",
              "      <td>0.000000</td>\n",
              "    </tr>\n",
              "    <tr>\n",
              "      <th>lf_common_adult_content_keywords</th>\n",
              "      <td>8</td>\n",
              "      <td>[2]</td>\n",
              "      <td>0.006129</td>\n",
              "      <td>0.006129</td>\n",
              "      <td>0.000340</td>\n",
              "    </tr>\n",
              "    <tr>\n",
              "      <th>lf_euphemisms_for_adult</th>\n",
              "      <td>9</td>\n",
              "      <td>[2]</td>\n",
              "      <td>0.000340</td>\n",
              "      <td>0.000000</td>\n",
              "      <td>0.000000</td>\n",
              "    </tr>\n",
              "    <tr>\n",
              "      <th>lf_adult_url_structure</th>\n",
              "      <td>10</td>\n",
              "      <td>[2]</td>\n",
              "      <td>0.000340</td>\n",
              "      <td>0.000340</td>\n",
              "      <td>0.000000</td>\n",
              "    </tr>\n",
              "    <tr>\n",
              "      <th>lf_adult_industry_domains</th>\n",
              "      <td>11</td>\n",
              "      <td>[]</td>\n",
              "      <td>0.000000</td>\n",
              "      <td>0.000000</td>\n",
              "      <td>0.000000</td>\n",
              "    </tr>\n",
              "    <tr>\n",
              "      <th>lf_age_restriction</th>\n",
              "      <td>12</td>\n",
              "      <td>[2]</td>\n",
              "      <td>0.000681</td>\n",
              "      <td>0.000340</td>\n",
              "      <td>0.000340</td>\n",
              "    </tr>\n",
              "    <tr>\n",
              "      <th>lf_explicit_adult_keywords</th>\n",
              "      <td>13</td>\n",
              "      <td>[2]</td>\n",
              "      <td>0.014641</td>\n",
              "      <td>0.003064</td>\n",
              "      <td>0.001362</td>\n",
              "    </tr>\n",
              "    <tr>\n",
              "      <th>lf_outgoing_host_is_malicious</th>\n",
              "      <td>14</td>\n",
              "      <td>[1]</td>\n",
              "      <td>0.022131</td>\n",
              "      <td>0.019408</td>\n",
              "      <td>0.013279</td>\n",
              "    </tr>\n",
              "    <tr>\n",
              "      <th>lf_host_is_malicious</th>\n",
              "      <td>15</td>\n",
              "      <td>[1]</td>\n",
              "      <td>0.049030</td>\n",
              "      <td>0.009534</td>\n",
              "      <td>0.003405</td>\n",
              "    </tr>\n",
              "    <tr>\n",
              "      <th>lf_outgoing_host_is_adult</th>\n",
              "      <td>16</td>\n",
              "      <td>[2]</td>\n",
              "      <td>0.010895</td>\n",
              "      <td>0.010895</td>\n",
              "      <td>0.010895</td>\n",
              "    </tr>\n",
              "    <tr>\n",
              "      <th>lf_host_is_adult</th>\n",
              "      <td>17</td>\n",
              "      <td>[2]</td>\n",
              "      <td>0.002383</td>\n",
              "      <td>0.002383</td>\n",
              "      <td>0.002383</td>\n",
              "    </tr>\n",
              "  </tbody>\n",
              "</table>\n",
              "</div>"
            ],
            "text/plain": [
              "                                   j Polarity  Coverage  Overlaps  Conflicts\n",
              "lf_educational_content             0      [0]  0.009874  0.000681   0.000681\n",
              "lf_sexual_innuendos                1      [2]  0.002383  0.001362   0.000000\n",
              "lf_malicious_keywords              2      [1]  0.001702  0.000000   0.000000\n",
              "lf_url_has_adult_content           3      [2]  0.034729  0.013960   0.002724\n",
              "lf_adult_keywords                  4      [2]  0.010895  0.010555   0.001021\n",
              "lf_common_benign_domains           5       []  0.000000  0.000000   0.000000\n",
              "lf_explicit_usernames              6      [2]  0.000681  0.000681   0.000000\n",
              "lf_adult_product_references        7       []  0.000000  0.000000   0.000000\n",
              "lf_common_adult_content_keywords   8      [2]  0.006129  0.006129   0.000340\n",
              "lf_euphemisms_for_adult            9      [2]  0.000340  0.000000   0.000000\n",
              "lf_adult_url_structure            10      [2]  0.000340  0.000340   0.000000\n",
              "lf_adult_industry_domains         11       []  0.000000  0.000000   0.000000\n",
              "lf_age_restriction                12      [2]  0.000681  0.000340   0.000340\n",
              "lf_explicit_adult_keywords        13      [2]  0.014641  0.003064   0.001362\n",
              "lf_outgoing_host_is_malicious     14      [1]  0.022131  0.019408   0.013279\n",
              "lf_host_is_malicious              15      [1]  0.049030  0.009534   0.003405\n",
              "lf_outgoing_host_is_adult         16      [2]  0.010895  0.010895   0.010895\n",
              "lf_host_is_adult                  17      [2]  0.002383  0.002383   0.002383"
            ]
          },
          "execution_count": 7,
          "metadata": {},
          "output_type": "execute_result"
        }
      ],
      "source": [
        "from snorkel.labeling import LFAnalysis\n",
        "\n",
        "LFAnalysis(L=L_val, lfs=lfs).lf_summary()\n"
      ]
    },
    {
      "cell_type": "markdown",
      "metadata": {
        "id": "FdCNis5qK8f3"
      },
      "source": [
        "The LabelModel is able to learn weights for the labeling functions using only the label matrix as input. We also specify the cardinality, or number of classes."
      ]
    },
    {
      "cell_type": "code",
      "execution_count": 8,
      "metadata": {
        "colab": {
          "base_uri": "https://localhost:8080/"
        },
        "id": "T8d3f67PhvbZ",
        "outputId": "ddf8d137-461d-414a-cfd3-25c9c1a15e65"
      },
      "outputs": [
        {
          "name": "stderr",
          "output_type": "stream",
          "text": [
            "INFO:root:Computing O...\n",
            "INFO:root:Estimating \\mu...\n",
            "  0%|          | 0/500 [00:00<?, ?epoch/s]INFO:root:[0 epochs]: TRAIN:[loss=0.002]\n",
            "  0%|          | 1/500 [00:00<02:14,  3.71epoch/s]INFO:root:[100 epochs]: TRAIN:[loss=0.001]\n",
            " 25%|██▌       | 125/500 [00:00<00:00, 430.97epoch/s]INFO:root:[200 epochs]: TRAIN:[loss=0.001]\n",
            " 51%|█████     | 253/500 [00:00<00:00, 710.92epoch/s]INFO:root:[300 epochs]: TRAIN:[loss=0.001]\n",
            " 74%|███████▍  | 369/500 [00:00<00:00, 853.42epoch/s]INFO:root:[400 epochs]: TRAIN:[loss=0.001]\n",
            "100%|██████████| 500/500 [00:00<00:00, 703.27epoch/s]\n",
            "INFO:root:Finished Training\n"
          ]
        }
      ],
      "source": [
        "from snorkel.labeling.model import LabelModel\n",
        "\n",
        "label_model = LabelModel(cardinality=3, verbose=True)\n",
        "label_model.fit(L_train=L_val, n_epochs=500, log_freq=100, seed=123)\n"
      ]
    },
    {
      "cell_type": "markdown",
      "metadata": {
        "id": "HZ5IsZWJLWsq"
      },
      "source": [
        "The majority vote model uses the information about how many functions predict that this data will have this label and how many predict that this data will have a different label. The final label is determined by the majority: if 3 functions predict that it will be a label 'a' and 2 that if will be a label 'b', the final label will be 'a'"
      ]
    },
    {
      "cell_type": "code",
      "execution_count": 9,
      "metadata": {
        "id": "-8Tuv-a4L0Pd"
      },
      "outputs": [],
      "source": [
        "from snorkel.labeling.model import MajorityLabelVoter\n",
        "\n",
        "majority_model = MajorityLabelVoter(cardinality=3, verbose=True)\n",
        "preds_train = majority_model.predict(L=L_train)\n"
      ]
    },
    {
      "cell_type": "markdown",
      "metadata": {
        "id": "Jce7tCSeN9CE"
      },
      "source": [
        "Here we can see, what accuracy scores we get. For some tasks label model is better, for some majority label voter is better: for you to find it out."
      ]
    },
    {
      "cell_type": "code",
      "execution_count": 10,
      "metadata": {
        "colab": {
          "base_uri": "https://localhost:8080/"
        },
        "id": "G3LOuX1th_Kv",
        "outputId": "83ccf7e2-d78b-4e0e-d0b9-79c84be52eaa"
      },
      "outputs": [
        {
          "name": "stdout",
          "output_type": "stream",
          "text": [
            "Label Model Accuracy: 35.6%\n",
            "Majority Vote Accuracy: 35.2%\n"
          ]
        }
      ],
      "source": [
        "label_model_acc = label_model.score(L=L_val, Y=val_true, tie_break_policy=\"random\")[\n",
        "    \"accuracy\"\n",
        "]\n",
        "print(f\"{'Label Model Accuracy:'} {label_model_acc * 100:.1f}%\")\n",
        "\n",
        "majority_acc = majority_model.score(L=L_val, Y=val_true, tie_break_policy=\"random\")[\n",
        "    \"accuracy\"\n",
        "]\n",
        "print(f\"{'Majority Vote Accuracy:'} {majority_acc * 100:.1f}%\")"
      ]
    }
  ],
  "metadata": {
    "colab": {
      "provenance": []
    },
    "kernelspec": {
      "display_name": "Python 3",
      "name": "python3"
    },
    "language_info": {
      "codemirror_mode": {
        "name": "ipython",
        "version": 3
      },
      "file_extension": ".py",
      "mimetype": "text/x-python",
      "name": "python",
      "nbconvert_exporter": "python",
      "pygments_lexer": "ipython3",
      "version": "3.10.8"
    }
  },
  "nbformat": 4,
  "nbformat_minor": 0
}
