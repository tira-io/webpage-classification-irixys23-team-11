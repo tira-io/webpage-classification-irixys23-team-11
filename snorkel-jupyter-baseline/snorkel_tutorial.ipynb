{
  "cells": [
    {
      "cell_type": "markdown",
      "metadata": {
        "id": "NYByJ-703szv"
      },
      "source": [
        "The main aim of Snorkel is to allow to create more training data, because labelling large amounts of data manually is very hard and requires a lot of effort. Snorkel is using labelling functions to classify the data in different categories. Those labelling functions represent noisy, programmatic rules and heuristics that assign labels to unlabeled training data."
      ]
    },
    {
      "cell_type": "code",
      "execution_count": 2,
      "metadata": {
        "id": "uCN6oPLs-gBC"
      },
      "outputs": [],
      "source": [
        "#importing all the necessary packages\n",
        "from utils import extract_plain_text, load_data, ABSTAIN, BENIGN, MALICIOUS, ADULT\n",
        "from url_labeling_functions import lf_educational_content, lf_sexual_innuendos,lf_malicious_keywords\n",
        "from plain_text_labeling_functions import lf_plain_text_adult_content\n",
        "import snorkel\n",
        "import json\n",
        "import pandas as pd\n",
        "import numpy as np\n",
        "\n"
      ]
    },
    {
      "cell_type": "markdown",
      "metadata": {
        "id": "PXqrDaPO1o0T"
      },
      "source": [
        "As an example, we load train and validation data for spam detection here"
      ]
    },
    {
      "cell_type": "code",
      "execution_count": 3,
      "metadata": {
        "id": "PDAl6OOqBnoh"
      },
      "outputs": [],
      "source": [
        "file_train = '../data/Hackathon_data/train/D1_train.jsonl'\n",
        "file_val = '../data/Hackathon_data/validation//D1_validation.jsonl'\n",
        "val_truth = '../data/Hackathon_data/validation/D1_validation-truth.jsonl'\n"
      ]
    },
    {
      "cell_type": "code",
      "execution_count": 4,
      "metadata": {
        "id": "Dr5YoMxPJT1L"
      },
      "outputs": [
        {
          "name": "stderr",
          "output_type": "stream",
          "text": [
            "19783it [00:45, 433.42it/s]\n",
            "2937it [00:05, 544.62it/s]\n"
          ]
        }
      ],
      "source": [
        "#loading train and validation data\n",
        "df_train = load_data(file_train)\n",
        "df_val = load_data(file_val)\n"
      ]
    },
    {
      "cell_type": "markdown",
      "metadata": {
        "id": "ahpPPs06EiYu"
      },
      "source": [
        "Usually, Snorkel returns -1 value for ABSTAIN category and 0 or 1 for labels, but, as we have 3 labels, we use 0, 1 and 2."
      ]
    },
    {
      "cell_type": "markdown",
      "metadata": {
        "id": "dPf7je9R10ca"
      },
      "source": [
        "We replace the labels by numerical values"
      ]
    },
    {
      "cell_type": "code",
      "execution_count": 5,
      "metadata": {
        "id": "tdL9cmm2B3Lx"
      },
      "outputs": [
        {
          "name": "stderr",
          "output_type": "stream",
          "text": [
            "2937it [00:00, 109863.56it/s]\n"
          ]
        }
      ],
      "source": [
        "df_val_t = load_data(val_truth)\n",
        "df_val_t = df_val_t.replace({'Benign': 0, 'Malicious': 1, 'Adult': 2})\n",
        "\n",
        "# we check if all the labeled items are in data\n",
        "list_of_values = df_val['uid'].to_list()\n",
        "df_val_t = df_val_t[df_val_t['uid'].isin(list_of_values)]\n",
        "df_val_t\n",
        "val_true = np.array(df_val_t['label'])"
      ]
    },
    {
      "cell_type": "markdown",
      "metadata": {
        "id": "FXTFmOF_6SQh"
      },
      "source": [
        "Labeling functions in Snorkel are created with the @labeling_function decorator. In this case, the labelling function uses the keywords that are present in the urls and indicate that the content is adult, malicious or benign. The functions can search in different parts of the data (such as URL and html content)."
      ]
    },
    {
      "cell_type": "markdown",
      "metadata": {
        "id": "dD_3XC5zPdFN"
      },
      "source": [
        "This function searches in html content instead of URL"
      ]
    },
    {
      "cell_type": "code",
      "execution_count": 9,
      "metadata": {
        "id": "LnLVYSkDNCiq"
      },
      "outputs": [],
      "source": []
    },
    {
      "cell_type": "markdown",
      "metadata": {
        "id": "Uw0Dcf9LFmjE"
      },
      "source": [
        "To apply one or more labelling functions that we’ve written to a collection of data points, we use an LFApplier. Because our data points are represented with a Pandas DataFrame, we use the PandasLFApplier. Correspondingly, a single data point x that’s passed into our LFs will be a Pandas Series object."
      ]
    },
    {
      "cell_type": "code",
      "execution_count": 6,
      "metadata": {
        "colab": {
          "base_uri": "https://localhost:8080/"
        },
        "id": "R0DSfvhvdCnz",
        "outputId": "18e4c6fd-8dce-4adb-8f0d-1944b4c41d3b"
      },
      "outputs": [
        {
          "name": "stderr",
          "output_type": "stream",
          "text": [
            "100%|██████████| 19783/19783 [00:00<00:00, 31444.85it/s]\n",
            "100%|██████████| 2937/2937 [00:00<00:00, 22892.56it/s]\n"
          ]
        }
      ],
      "source": [
        "from snorkel.labeling import PandasLFApplier\n",
        "\n",
        "lfs = [lf_educational_content, lf_sexual_innuendos,lf_malicious_keywords,lf_plain_text_adult_content]\n",
        "\n",
        "applier = PandasLFApplier(lfs=lfs)\n",
        "L_train = applier.apply(df=df_train)\n",
        "L_val = applier.apply(df=df_val)\n"
      ]
    },
    {
      "cell_type": "markdown",
      "metadata": {
        "id": "SEk_fc3CGmzI"
      },
      "source": [
        "Here we have statistics about the labelling of our labelling functions. Polarity means what labels and how many labels does a function return (for example, Malicious and Abstain). Coverage indicates how much dataset is labeled by this function. Overlaps is when several functions give the same label to the data. Conflicts is when different functions labeled the same data differently."
      ]
    },
    {
      "cell_type": "code",
      "execution_count": 7,
      "metadata": {
        "colab": {
          "base_uri": "https://localhost:8080/",
          "height": 175
        },
        "id": "1lwv7uEEe4Xs",
        "outputId": "724c8b18-b54d-4314-e977-790dbd591d13"
      },
      "outputs": [
        {
          "data": {
            "text/html": [
              "<div>\n",
              "<style scoped>\n",
              "    .dataframe tbody tr th:only-of-type {\n",
              "        vertical-align: middle;\n",
              "    }\n",
              "\n",
              "    .dataframe tbody tr th {\n",
              "        vertical-align: top;\n",
              "    }\n",
              "\n",
              "    .dataframe thead th {\n",
              "        text-align: right;\n",
              "    }\n",
              "</style>\n",
              "<table border=\"1\" class=\"dataframe\">\n",
              "  <thead>\n",
              "    <tr style=\"text-align: right;\">\n",
              "      <th></th>\n",
              "      <th>j</th>\n",
              "      <th>Polarity</th>\n",
              "      <th>Coverage</th>\n",
              "      <th>Overlaps</th>\n",
              "      <th>Conflicts</th>\n",
              "    </tr>\n",
              "  </thead>\n",
              "  <tbody>\n",
              "    <tr>\n",
              "      <th>lf_educational_content</th>\n",
              "      <td>0</td>\n",
              "      <td>[0]</td>\n",
              "      <td>0.006723</td>\n",
              "      <td>0.002275</td>\n",
              "      <td>0.002275</td>\n",
              "    </tr>\n",
              "    <tr>\n",
              "      <th>lf_sexual_innuendos</th>\n",
              "      <td>1</td>\n",
              "      <td>[2]</td>\n",
              "      <td>0.012536</td>\n",
              "      <td>0.012031</td>\n",
              "      <td>0.000051</td>\n",
              "    </tr>\n",
              "    <tr>\n",
              "      <th>lf_malicious_keywords</th>\n",
              "      <td>2</td>\n",
              "      <td>[1]</td>\n",
              "      <td>0.001415</td>\n",
              "      <td>0.000152</td>\n",
              "      <td>0.000152</td>\n",
              "    </tr>\n",
              "    <tr>\n",
              "      <th>lf_plain_text_adult_content</th>\n",
              "      <td>3</td>\n",
              "      <td>[2]</td>\n",
              "      <td>0.303493</td>\n",
              "      <td>0.014406</td>\n",
              "      <td>0.002426</td>\n",
              "    </tr>\n",
              "  </tbody>\n",
              "</table>\n",
              "</div>"
            ],
            "text/plain": [
              "                             j Polarity  Coverage  Overlaps  Conflicts\n",
              "lf_educational_content       0      [0]  0.006723  0.002275   0.002275\n",
              "lf_sexual_innuendos          1      [2]  0.012536  0.012031   0.000051\n",
              "lf_malicious_keywords        2      [1]  0.001415  0.000152   0.000152\n",
              "lf_plain_text_adult_content  3      [2]  0.303493  0.014406   0.002426"
            ]
          },
          "execution_count": 7,
          "metadata": {},
          "output_type": "execute_result"
        }
      ],
      "source": [
        "from snorkel.labeling import LFAnalysis\n",
        "\n",
        "LFAnalysis(L=L_train, lfs=lfs).lf_summary()\n"
      ]
    },
    {
      "cell_type": "markdown",
      "metadata": {
        "id": "FdCNis5qK8f3"
      },
      "source": [
        "The LabelModel is able to learn weights for the labeling functions using only the label matrix as input. We also specify the cardinality, or number of classes."
      ]
    },
    {
      "cell_type": "code",
      "execution_count": 8,
      "metadata": {
        "colab": {
          "base_uri": "https://localhost:8080/"
        },
        "id": "T8d3f67PhvbZ",
        "outputId": "ddf8d137-461d-414a-cfd3-25c9c1a15e65"
      },
      "outputs": [
        {
          "name": "stderr",
          "output_type": "stream",
          "text": [
            "INFO:root:Computing O...\n",
            "INFO:root:Estimating \\mu...\n",
            "  0%|          | 0/500 [00:00<?, ?epoch/s]INFO:root:[0 epochs]: TRAIN:[loss=0.005]\n",
            "  0%|          | 1/500 [00:00<02:06,  3.93epoch/s]INFO:root:[100 epochs]: TRAIN:[loss=0.000]\n",
            " 29%|██▉       | 147/500 [00:00<00:00, 527.51epoch/s]INFO:root:[200 epochs]: TRAIN:[loss=0.000]\n",
            " 57%|█████▋    | 287/500 [00:00<00:00, 822.76epoch/s]INFO:root:[300 epochs]: TRAIN:[loss=0.000]\n",
            "INFO:root:[400 epochs]: TRAIN:[loss=0.000]\n",
            "100%|██████████| 500/500 [00:00<00:00, 831.06epoch/s] \n",
            "INFO:root:Finished Training\n"
          ]
        }
      ],
      "source": [
        "from snorkel.labeling.model import LabelModel\n",
        "\n",
        "label_model = LabelModel(cardinality=3, verbose=True)\n",
        "label_model.fit(L_train=L_val, n_epochs=500, log_freq=100, seed=123)\n"
      ]
    },
    {
      "cell_type": "markdown",
      "metadata": {
        "id": "HZ5IsZWJLWsq"
      },
      "source": [
        "The majority vote model uses the information about how many functions predict that this data will have this label and how many predict that this data will have a different label. The final label is determined by the majority: if 3 functions predict that it will be a label 'a' and 2 that if will be a label 'b', the final label will be 'a'"
      ]
    },
    {
      "cell_type": "code",
      "execution_count": 9,
      "metadata": {
        "id": "-8Tuv-a4L0Pd"
      },
      "outputs": [],
      "source": [
        "from snorkel.labeling.model import MajorityLabelVoter\n",
        "\n",
        "majority_model = MajorityLabelVoter(cardinality=3, verbose=True)\n",
        "preds_train = majority_model.predict(L=L_train)\n"
      ]
    },
    {
      "cell_type": "markdown",
      "metadata": {
        "id": "Jce7tCSeN9CE"
      },
      "source": [
        "Here we can see, what accuracy scores we get. For some tasks label model is better, for some majority label voter is better: for you to find it out."
      ]
    },
    {
      "cell_type": "code",
      "execution_count": 10,
      "metadata": {
        "colab": {
          "base_uri": "https://localhost:8080/"
        },
        "id": "G3LOuX1th_Kv",
        "outputId": "83ccf7e2-d78b-4e0e-d0b9-79c84be52eaa"
      },
      "outputs": [
        {
          "name": "stdout",
          "output_type": "stream",
          "text": [
            "Label Model Accuracy: 30.3%\n",
            "Majority Vote Accuracy: 30.3%\n"
          ]
        }
      ],
      "source": [
        "label_model_acc = label_model.score(L=L_val, Y=val_true, tie_break_policy=\"random\")[\n",
        "    \"accuracy\"\n",
        "]\n",
        "print(f\"{'Label Model Accuracy:'} {label_model_acc * 100:.1f}%\")\n",
        "\n",
        "majority_acc = majority_model.score(L=L_val, Y=val_true, tie_break_policy=\"random\")[\n",
        "    \"accuracy\"\n",
        "]\n",
        "print(f\"{'Majority Vote Accuracy:'} {majority_acc * 100:.1f}%\")"
      ]
    }
  ],
  "metadata": {
    "colab": {
      "provenance": []
    },
    "kernelspec": {
      "display_name": "Python 3",
      "name": "python3"
    },
    "language_info": {
      "codemirror_mode": {
        "name": "ipython",
        "version": 3
      },
      "file_extension": ".py",
      "mimetype": "text/x-python",
      "name": "python",
      "nbconvert_exporter": "python",
      "pygments_lexer": "ipython3",
      "version": "3.10.8"
    }
  },
  "nbformat": 4,
  "nbformat_minor": 0
}
